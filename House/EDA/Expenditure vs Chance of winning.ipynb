{
 "cells": [
  {
   "cell_type": "code",
   "execution_count": 13,
   "metadata": {},
   "outputs": [],
   "source": [
    "import pandas as pd\n",
    "import seaborn as sns\n",
    "import matplotlib.pyplot as plt"
   ]
  },
  {
   "cell_type": "code",
   "execution_count": 14,
   "metadata": {},
   "outputs": [
    {
     "name": "stdout",
     "output_type": "stream",
     "text": [
      "Index(['Cand_Name', 'FEC ID#', 'Cand_Incumbent_Challenger_Open_Seat',\n",
      "       'Total_Receipt', 'Total_Disbursement', 'Cand_State',\n",
      "       'Individual_Contribution', 'Other_Committee_Contribution',\n",
      "       'Party_Committee_Contribution', 'STATE ABBREVIATION',\n",
      "       ...\n",
      "       'Cand_Office_Dist_45.0', 'Cand_Office_Dist_46.0',\n",
      "       'Cand_Office_Dist_47.0', 'Cand_Office_Dist_48.0',\n",
      "       'Cand_Office_Dist_49.0', 'Cand_Office_Dist_50.0',\n",
      "       'Cand_Office_Dist_51.0', 'Cand_Office_Dist_52.0',\n",
      "       'Cand_Office_Dist_53.0', 'Cand_Office_Dist'],\n",
      "      dtype='object', length=132)\n"
     ]
    },
    {
     "data": {
      "text/html": [
       "<div>\n",
       "<style scoped>\n",
       "    .dataframe tbody tr th:only-of-type {\n",
       "        vertical-align: middle;\n",
       "    }\n",
       "\n",
       "    .dataframe tbody tr th {\n",
       "        vertical-align: top;\n",
       "    }\n",
       "\n",
       "    .dataframe thead th {\n",
       "        text-align: right;\n",
       "    }\n",
       "</style>\n",
       "<table border=\"1\" class=\"dataframe\">\n",
       "  <thead>\n",
       "    <tr style=\"text-align: right;\">\n",
       "      <th></th>\n",
       "      <th>Cand_Name</th>\n",
       "      <th>FEC ID#</th>\n",
       "      <th>Cand_Incumbent_Challenger_Open_Seat</th>\n",
       "      <th>Total_Receipt</th>\n",
       "      <th>Total_Disbursement</th>\n",
       "      <th>Cand_State</th>\n",
       "      <th>Individual_Contribution</th>\n",
       "      <th>Other_Committee_Contribution</th>\n",
       "      <th>Party_Committee_Contribution</th>\n",
       "      <th>STATE ABBREVIATION</th>\n",
       "      <th>...</th>\n",
       "      <th>Cand_Office_Dist_45.0</th>\n",
       "      <th>Cand_Office_Dist_46.0</th>\n",
       "      <th>Cand_Office_Dist_47.0</th>\n",
       "      <th>Cand_Office_Dist_48.0</th>\n",
       "      <th>Cand_Office_Dist_49.0</th>\n",
       "      <th>Cand_Office_Dist_50.0</th>\n",
       "      <th>Cand_Office_Dist_51.0</th>\n",
       "      <th>Cand_Office_Dist_52.0</th>\n",
       "      <th>Cand_Office_Dist_53.0</th>\n",
       "      <th>Cand_Office_Dist</th>\n",
       "    </tr>\n",
       "  </thead>\n",
       "  <tbody>\n",
       "    <tr>\n",
       "      <th>0</th>\n",
       "      <td>RAASCH, WAYNE GORDON</td>\n",
       "      <td>H6TX27068</td>\n",
       "      <td>CHALLENGER</td>\n",
       "      <td>0.00</td>\n",
       "      <td>0.00</td>\n",
       "      <td>TX</td>\n",
       "      <td>0.00</td>\n",
       "      <td>0.00</td>\n",
       "      <td>0.0</td>\n",
       "      <td>TX</td>\n",
       "      <td>...</td>\n",
       "      <td>0</td>\n",
       "      <td>0</td>\n",
       "      <td>0</td>\n",
       "      <td>0</td>\n",
       "      <td>0</td>\n",
       "      <td>0</td>\n",
       "      <td>0</td>\n",
       "      <td>0</td>\n",
       "      <td>0</td>\n",
       "      <td>27.0</td>\n",
       "    </tr>\n",
       "    <tr>\n",
       "      <th>1</th>\n",
       "      <td>MICHAELS, BARRY</td>\n",
       "      <td>H6NV03014</td>\n",
       "      <td>OPEN</td>\n",
       "      <td>0.00</td>\n",
       "      <td>0.00</td>\n",
       "      <td>NV</td>\n",
       "      <td>0.00</td>\n",
       "      <td>0.00</td>\n",
       "      <td>0.0</td>\n",
       "      <td>NV</td>\n",
       "      <td>...</td>\n",
       "      <td>0</td>\n",
       "      <td>0</td>\n",
       "      <td>0</td>\n",
       "      <td>0</td>\n",
       "      <td>0</td>\n",
       "      <td>0</td>\n",
       "      <td>0</td>\n",
       "      <td>0</td>\n",
       "      <td>0</td>\n",
       "      <td>3.0</td>\n",
       "    </tr>\n",
       "    <tr>\n",
       "      <th>2</th>\n",
       "      <td>LIEBERMAN, RICHARD</td>\n",
       "      <td>H4LA06062</td>\n",
       "      <td>CHALLENGER</td>\n",
       "      <td>0.00</td>\n",
       "      <td>0.00</td>\n",
       "      <td>LA</td>\n",
       "      <td>0.00</td>\n",
       "      <td>0.00</td>\n",
       "      <td>0.0</td>\n",
       "      <td>LA</td>\n",
       "      <td>...</td>\n",
       "      <td>0</td>\n",
       "      <td>0</td>\n",
       "      <td>0</td>\n",
       "      <td>0</td>\n",
       "      <td>0</td>\n",
       "      <td>0</td>\n",
       "      <td>0</td>\n",
       "      <td>0</td>\n",
       "      <td>0</td>\n",
       "      <td>6.0</td>\n",
       "    </tr>\n",
       "    <tr>\n",
       "      <th>3</th>\n",
       "      <td>GARRETT, GREGORY KEITH</td>\n",
       "      <td>H6TX19123</td>\n",
       "      <td>OPEN</td>\n",
       "      <td>108161.18</td>\n",
       "      <td>108161.18</td>\n",
       "      <td>TX</td>\n",
       "      <td>57940.00</td>\n",
       "      <td>0.00</td>\n",
       "      <td>0.0</td>\n",
       "      <td>TX</td>\n",
       "      <td>...</td>\n",
       "      <td>0</td>\n",
       "      <td>0</td>\n",
       "      <td>0</td>\n",
       "      <td>0</td>\n",
       "      <td>0</td>\n",
       "      <td>0</td>\n",
       "      <td>0</td>\n",
       "      <td>0</td>\n",
       "      <td>0</td>\n",
       "      <td>19.0</td>\n",
       "    </tr>\n",
       "    <tr>\n",
       "      <th>4</th>\n",
       "      <td>JORDAN, JAMES D.</td>\n",
       "      <td>H6OH04082</td>\n",
       "      <td>INCUMBENT</td>\n",
       "      <td>733416.16</td>\n",
       "      <td>422966.51</td>\n",
       "      <td>OH</td>\n",
       "      <td>370033.49</td>\n",
       "      <td>354896.05</td>\n",
       "      <td>4000.0</td>\n",
       "      <td>OH</td>\n",
       "      <td>...</td>\n",
       "      <td>0</td>\n",
       "      <td>0</td>\n",
       "      <td>0</td>\n",
       "      <td>0</td>\n",
       "      <td>0</td>\n",
       "      <td>0</td>\n",
       "      <td>0</td>\n",
       "      <td>0</td>\n",
       "      <td>0</td>\n",
       "      <td>4.0</td>\n",
       "    </tr>\n",
       "  </tbody>\n",
       "</table>\n",
       "<p>5 rows × 132 columns</p>\n",
       "</div>"
      ],
      "text/plain": [
       "                Cand_Name    FEC ID# Cand_Incumbent_Challenger_Open_Seat  \\\n",
       "0    RAASCH, WAYNE GORDON  H6TX27068                          CHALLENGER   \n",
       "1         MICHAELS, BARRY  H6NV03014                                OPEN   \n",
       "2     LIEBERMAN, RICHARD   H4LA06062                          CHALLENGER   \n",
       "3  GARRETT, GREGORY KEITH  H6TX19123                                OPEN   \n",
       "4        JORDAN, JAMES D.  H6OH04082                           INCUMBENT   \n",
       "\n",
       "   Total_Receipt  Total_Disbursement Cand_State  Individual_Contribution  \\\n",
       "0           0.00                0.00         TX                     0.00   \n",
       "1           0.00                0.00         NV                     0.00   \n",
       "2           0.00                0.00         LA                     0.00   \n",
       "3      108161.18           108161.18         TX                 57940.00   \n",
       "4      733416.16           422966.51         OH                370033.49   \n",
       "\n",
       "   Other_Committee_Contribution  Party_Committee_Contribution  \\\n",
       "0                          0.00                           0.0   \n",
       "1                          0.00                           0.0   \n",
       "2                          0.00                           0.0   \n",
       "3                          0.00                           0.0   \n",
       "4                     354896.05                        4000.0   \n",
       "\n",
       "  STATE ABBREVIATION        ...        Cand_Office_Dist_45.0  \\\n",
       "0                 TX        ...                            0   \n",
       "1                 NV        ...                            0   \n",
       "2                 LA        ...                            0   \n",
       "3                 TX        ...                            0   \n",
       "4                 OH        ...                            0   \n",
       "\n",
       "  Cand_Office_Dist_46.0  Cand_Office_Dist_47.0  Cand_Office_Dist_48.0  \\\n",
       "0                     0                      0                      0   \n",
       "1                     0                      0                      0   \n",
       "2                     0                      0                      0   \n",
       "3                     0                      0                      0   \n",
       "4                     0                      0                      0   \n",
       "\n",
       "   Cand_Office_Dist_49.0  Cand_Office_Dist_50.0  Cand_Office_Dist_51.0  \\\n",
       "0                      0                      0                      0   \n",
       "1                      0                      0                      0   \n",
       "2                      0                      0                      0   \n",
       "3                      0                      0                      0   \n",
       "4                      0                      0                      0   \n",
       "\n",
       "   Cand_Office_Dist_52.0  Cand_Office_Dist_53.0  Cand_Office_Dist  \n",
       "0                      0                      0              27.0  \n",
       "1                      0                      0               3.0  \n",
       "2                      0                      0               6.0  \n",
       "3                      0                      0              19.0  \n",
       "4                      0                      0               4.0  \n",
       "\n",
       "[5 rows x 132 columns]"
      ]
     },
     "execution_count": 14,
     "metadata": {},
     "output_type": "execute_result"
    }
   ],
   "source": [
    "# Let's pull the candidates info \n",
    "\n",
    "house_cand = pd.read_csv(\"Train.csv\")\n",
    "print(house_cand.columns)\n",
    "\n",
    "total_winners = house_cand[house_cand[\"GE WINNER INDICATOR\"] == 1].count()[0]\n",
    "house_cand.head()\n"
   ]
  },
  {
   "cell_type": "code",
   "execution_count": 15,
   "metadata": {},
   "outputs": [
    {
     "name": "stdout",
     "output_type": "stream",
     "text": [
      "Probability of a candidate winning if he/she has highest individual contribution in their state:  0.9027149321266968\n"
     ]
    }
   ],
   "source": [
    "top_ind_contri = house_cand.loc[house_cand.groupby(['STATE ABBREVIATION',\"Cand_Office_Dist\"])[\"Individual_Contribution\"].idxmax()]\n",
    "no_of_states = top_ind_contri.shape[0]\n",
    "no_of_winner = top_ind_contri[top_ind_contri[\"GE WINNER INDICATOR\"] == 1].count()[0]\n",
    "prob_ind_contri = no_of_winner/no_of_states\n",
    "print(\"Probability of a candidate winning if he/she has highest individual contribution in their state: \",prob_ind_contri)"
   ]
  },
  {
   "cell_type": "code",
   "execution_count": 16,
   "metadata": {},
   "outputs": [
    {
     "name": "stdout",
     "output_type": "stream",
     "text": [
      "Probability of a candidate winning if he/she has highest Other committee contribution in their state:  0.9411764705882353\n"
     ]
    }
   ],
   "source": [
    "other_committee_contri = house_cand.loc[house_cand.groupby(['STATE ABBREVIATION',\"Cand_Office_Dist\"])[\"Other_Committee_Contribution\"].idxmax()]\n",
    "no_of_winner = other_committee_contri[other_committee_contri[\"GE WINNER INDICATOR\"] == 1].count()[0]\n",
    "prob_other_comm = no_of_winner/no_of_states\n",
    "print(\"Probability of a candidate winning if he/she has highest Other committee contribution in their state: \",prob_other_comm)\n"
   ]
  },
  {
   "cell_type": "code",
   "execution_count": 17,
   "metadata": {},
   "outputs": [
    {
     "name": "stdout",
     "output_type": "stream",
     "text": [
      "Probability of a candidate winning if he/she has highest total disbursement in their state:  0.920814479638009\n"
     ]
    }
   ],
   "source": [
    "total_disbur = house_cand.loc[house_cand.groupby(['STATE ABBREVIATION',\"Cand_Office_Dist\"])[\"Total_Disbursement\"].idxmax()]\n",
    "no_of_winner = total_disbur[total_disbur[\"GE WINNER INDICATOR\"] == 1].count()[0]\n",
    "prob_total_disbur = no_of_winner/no_of_states\n",
    "print(\"Probability of a candidate winning if he/she has highest total disbursement in their state: \",prob_total_disbur)\n"
   ]
  },
  {
   "cell_type": "code",
   "execution_count": null,
   "metadata": {},
   "outputs": [],
   "source": []
  },
  {
   "cell_type": "code",
   "execution_count": 18,
   "metadata": {},
   "outputs": [
    {
     "data": {
      "image/png": "[encoded data removed]",
      "text/plain": [
       "<Figure size 352.8x504 with 1 Axes>"
      ]
     },
     "metadata": {},
     "output_type": "display_data"
    }
   ],
   "source": [
    "sns.set()\n",
    "plot = pd.DataFrame({\"Candidate Status\":[\"Individual\",\"Other Committe\",\"Total Disbursement\"],\"Probability of winning\":[prob_ind_contri,prob_other_comm,prob_total_disbur]})\n",
    "g = sns.factorplot(x=\"Candidate Status\", y=\"Probability of winning\",data=plot, kind='bar',size=7, aspect=0.7)\n",
    "\n",
    "for ax in g.axes.flatten():\n",
    "#     ax.legend()\n",
    "    ax.set_xlabel('')\n",
    "    ax.set_title('Chances of winning: Type of Finance')\n",
    "    g.savefig(\"finance.jpg\",dpi=1000)\n"
   ]
  }
 ],
 "metadata": {
  "kernelspec": {
   "display_name": "Python 3",
   "language": "python",
   "name": "python3"
  },
  "language_info": {
   "codemirror_mode": {
    "name": "ipython",
    "version": 3
   },
   "file_extension": ".py",
   "mimetype": "text/x-python",
   "name": "python",
   "nbconvert_exporter": "python",
   "pygments_lexer": "ipython3",
   "version": "3.6.5"
  }
 },
 "nbformat": 4,
 "nbformat_minor": 2
}
