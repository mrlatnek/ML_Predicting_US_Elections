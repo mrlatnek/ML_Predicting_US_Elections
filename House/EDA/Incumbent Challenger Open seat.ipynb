{
 "cells": [
  {
   "cell_type": "code",
   "execution_count": 18,
   "metadata": {},
   "outputs": [],
   "source": [
    "import pandas as pd\n",
    "import matplotlib.pyplot as plt\n",
    "import seaborn as sns\n",
    "sns.set()"
   ]
  },
  {
   "cell_type": "code",
   "execution_count": 19,
   "metadata": {},
   "outputs": [
    {
     "name": "stdout",
     "output_type": "stream",
     "text": [
      "Index(['Cand_Name', 'FEC ID#', 'Cand_Incumbent_Challenger_Open_Seat',\n",
      "       'Total_Receipt', 'Total_Disbursement', 'Cand_State',\n",
      "       'Individual_Contribution', 'Other_Committee_Contribution',\n",
      "       'Party_Committee_Contribution', 'STATE ABBREVIATION',\n",
      "       ...\n",
      "       'Cand_Office_Dist_45', 'Cand_Office_Dist_46', 'Cand_Office_Dist_47',\n",
      "       'Cand_Office_Dist_48', 'Cand_Office_Dist_49', 'Cand_Office_Dist_50',\n",
      "       'Cand_Office_Dist_51', 'Cand_Office_Dist_52', 'Cand_Office_Dist_53',\n",
      "       'Cand_Office_Dist'],\n",
      "      dtype='object', length=132)\n"
     ]
    },
    {
     "data": {
      "text/html": [
       "<div>\n",
       "<style scoped>\n",
       "    .dataframe tbody tr th:only-of-type {\n",
       "        vertical-align: middle;\n",
       "    }\n",
       "\n",
       "    .dataframe tbody tr th {\n",
       "        vertical-align: top;\n",
       "    }\n",
       "\n",
       "    .dataframe thead th {\n",
       "        text-align: right;\n",
       "    }\n",
       "</style>\n",
       "<table border=\"1\" class=\"dataframe\">\n",
       "  <thead>\n",
       "    <tr style=\"text-align: right;\">\n",
       "      <th></th>\n",
       "      <th>Cand_Name</th>\n",
       "      <th>FEC ID#</th>\n",
       "      <th>Cand_Incumbent_Challenger_Open_Seat</th>\n",
       "      <th>Total_Receipt</th>\n",
       "      <th>Total_Disbursement</th>\n",
       "      <th>Cand_State</th>\n",
       "      <th>Individual_Contribution</th>\n",
       "      <th>Other_Committee_Contribution</th>\n",
       "      <th>Party_Committee_Contribution</th>\n",
       "      <th>STATE ABBREVIATION</th>\n",
       "      <th>...</th>\n",
       "      <th>Cand_Office_Dist_45</th>\n",
       "      <th>Cand_Office_Dist_46</th>\n",
       "      <th>Cand_Office_Dist_47</th>\n",
       "      <th>Cand_Office_Dist_48</th>\n",
       "      <th>Cand_Office_Dist_49</th>\n",
       "      <th>Cand_Office_Dist_50</th>\n",
       "      <th>Cand_Office_Dist_51</th>\n",
       "      <th>Cand_Office_Dist_52</th>\n",
       "      <th>Cand_Office_Dist_53</th>\n",
       "      <th>Cand_Office_Dist</th>\n",
       "    </tr>\n",
       "  </thead>\n",
       "  <tbody>\n",
       "    <tr>\n",
       "      <th>0</th>\n",
       "      <td>STEARNS, CLIFFORD B</td>\n",
       "      <td>H8FL06056</td>\n",
       "      <td>INCUMBENT</td>\n",
       "      <td>806449.20</td>\n",
       "      <td>789781.22</td>\n",
       "      <td>FL</td>\n",
       "      <td>211884.83</td>\n",
       "      <td>372988.62</td>\n",
       "      <td>0.0</td>\n",
       "      <td>FL</td>\n",
       "      <td>...</td>\n",
       "      <td>0</td>\n",
       "      <td>0</td>\n",
       "      <td>0</td>\n",
       "      <td>0</td>\n",
       "      <td>0</td>\n",
       "      <td>0</td>\n",
       "      <td>0</td>\n",
       "      <td>0</td>\n",
       "      <td>0</td>\n",
       "      <td>6.0</td>\n",
       "    </tr>\n",
       "    <tr>\n",
       "      <th>1</th>\n",
       "      <td>CUNHA, TIMOTHY M</td>\n",
       "      <td>H8FL06080</td>\n",
       "      <td>CHALLENGER</td>\n",
       "      <td>249756.94</td>\n",
       "      <td>249756.94</td>\n",
       "      <td>FL</td>\n",
       "      <td>101706.14</td>\n",
       "      <td>21350.00</td>\n",
       "      <td>0.0</td>\n",
       "      <td>FL</td>\n",
       "      <td>...</td>\n",
       "      <td>0</td>\n",
       "      <td>0</td>\n",
       "      <td>0</td>\n",
       "      <td>0</td>\n",
       "      <td>0</td>\n",
       "      <td>0</td>\n",
       "      <td>0</td>\n",
       "      <td>0</td>\n",
       "      <td>0</td>\n",
       "      <td>6.0</td>\n",
       "    </tr>\n",
       "    <tr>\n",
       "      <th>2</th>\n",
       "      <td>ARMITAGE, FAYE</td>\n",
       "      <td>H8FL07047</td>\n",
       "      <td>CHALLENGER</td>\n",
       "      <td>35023.00</td>\n",
       "      <td>41688.00</td>\n",
       "      <td>FL</td>\n",
       "      <td>28523.00</td>\n",
       "      <td>0.00</td>\n",
       "      <td>0.0</td>\n",
       "      <td>FL</td>\n",
       "      <td>...</td>\n",
       "      <td>0</td>\n",
       "      <td>0</td>\n",
       "      <td>0</td>\n",
       "      <td>0</td>\n",
       "      <td>0</td>\n",
       "      <td>0</td>\n",
       "      <td>0</td>\n",
       "      <td>0</td>\n",
       "      <td>0</td>\n",
       "      <td>7.0</td>\n",
       "    </tr>\n",
       "    <tr>\n",
       "      <th>3</th>\n",
       "      <td>ANDREWS, ROBERT E</td>\n",
       "      <td>H0NJ01066</td>\n",
       "      <td>INCUMBENT</td>\n",
       "      <td>1618561.39</td>\n",
       "      <td>3502682.61</td>\n",
       "      <td>NJ</td>\n",
       "      <td>757963.58</td>\n",
       "      <td>741527.16</td>\n",
       "      <td>1000.0</td>\n",
       "      <td>NJ</td>\n",
       "      <td>...</td>\n",
       "      <td>0</td>\n",
       "      <td>0</td>\n",
       "      <td>0</td>\n",
       "      <td>0</td>\n",
       "      <td>0</td>\n",
       "      <td>0</td>\n",
       "      <td>0</td>\n",
       "      <td>0</td>\n",
       "      <td>0</td>\n",
       "      <td>1.0</td>\n",
       "    </tr>\n",
       "    <tr>\n",
       "      <th>4</th>\n",
       "      <td>PAYNE, DONALD M</td>\n",
       "      <td>H0NJ10026</td>\n",
       "      <td>INCUMBENT</td>\n",
       "      <td>804188.18</td>\n",
       "      <td>502616.83</td>\n",
       "      <td>NJ</td>\n",
       "      <td>302537.50</td>\n",
       "      <td>440473.84</td>\n",
       "      <td>17972.5</td>\n",
       "      <td>NJ</td>\n",
       "      <td>...</td>\n",
       "      <td>0</td>\n",
       "      <td>0</td>\n",
       "      <td>0</td>\n",
       "      <td>0</td>\n",
       "      <td>0</td>\n",
       "      <td>0</td>\n",
       "      <td>0</td>\n",
       "      <td>0</td>\n",
       "      <td>0</td>\n",
       "      <td>10.0</td>\n",
       "    </tr>\n",
       "  </tbody>\n",
       "</table>\n",
       "<p>5 rows × 132 columns</p>\n",
       "</div>"
      ],
      "text/plain": [
       "             Cand_Name    FEC ID# Cand_Incumbent_Challenger_Open_Seat  \\\n",
       "0  STEARNS, CLIFFORD B  H8FL06056                           INCUMBENT   \n",
       "1     CUNHA, TIMOTHY M  H8FL06080                          CHALLENGER   \n",
       "2       ARMITAGE, FAYE  H8FL07047                          CHALLENGER   \n",
       "3    ANDREWS, ROBERT E  H0NJ01066                           INCUMBENT   \n",
       "4      PAYNE, DONALD M  H0NJ10026                           INCUMBENT   \n",
       "\n",
       "   Total_Receipt  Total_Disbursement Cand_State  Individual_Contribution  \\\n",
       "0      806449.20           789781.22         FL                211884.83   \n",
       "1      249756.94           249756.94         FL                101706.14   \n",
       "2       35023.00            41688.00         FL                 28523.00   \n",
       "3     1618561.39          3502682.61         NJ                757963.58   \n",
       "4      804188.18           502616.83         NJ                302537.50   \n",
       "\n",
       "   Other_Committee_Contribution  Party_Committee_Contribution  \\\n",
       "0                     372988.62                           0.0   \n",
       "1                      21350.00                           0.0   \n",
       "2                          0.00                           0.0   \n",
       "3                     741527.16                        1000.0   \n",
       "4                     440473.84                       17972.5   \n",
       "\n",
       "  STATE ABBREVIATION        ...        Cand_Office_Dist_45  \\\n",
       "0                 FL        ...                          0   \n",
       "1                 FL        ...                          0   \n",
       "2                 FL        ...                          0   \n",
       "3                 NJ        ...                          0   \n",
       "4                 NJ        ...                          0   \n",
       "\n",
       "  Cand_Office_Dist_46  Cand_Office_Dist_47  Cand_Office_Dist_48  \\\n",
       "0                   0                    0                    0   \n",
       "1                   0                    0                    0   \n",
       "2                   0                    0                    0   \n",
       "3                   0                    0                    0   \n",
       "4                   0                    0                    0   \n",
       "\n",
       "   Cand_Office_Dist_49  Cand_Office_Dist_50  Cand_Office_Dist_51  \\\n",
       "0                    0                    0                    0   \n",
       "1                    0                    0                    0   \n",
       "2                    0                    0                    0   \n",
       "3                    0                    0                    0   \n",
       "4                    0                    0                    0   \n",
       "\n",
       "   Cand_Office_Dist_52  Cand_Office_Dist_53  Cand_Office_Dist  \n",
       "0                    0                    0               6.0  \n",
       "1                    0                    0               6.0  \n",
       "2                    0                    0               7.0  \n",
       "3                    0                    0               1.0  \n",
       "4                    0                    0              10.0  \n",
       "\n",
       "[5 rows x 132 columns]"
      ]
     },
     "execution_count": 19,
     "metadata": {},
     "output_type": "execute_result"
    }
   ],
   "source": [
    "# Let's pull the candidates info \n",
    "\n",
    "house_cand = pd.read_excel(\"house.xlsx\")\n",
    "print(house_cand.columns)\n",
    "\n",
    "# senate_cand = pd.read_csv(\"senate.csv\")\n",
    "\n",
    "total_winners = house_cand[house_cand[\"GE WINNER INDICATOR\"] == 1].count()[0]\n",
    "house_cand.head()\n",
    "# senate_cand.head()\n",
    "# https://classic.fec.gov/finance/disclosure/metadata/DataDictionaryCandidateMaster.shtml"
   ]
  },
  {
   "cell_type": "code",
   "execution_count": 20,
   "metadata": {},
   "outputs": [
    {
     "data": {
      "text/plain": [
       "195"
      ]
     },
     "execution_count": 20,
     "metadata": {},
     "output_type": "execute_result"
    }
   ],
   "source": [
    "open_cand = house_cand[house_cand['Cand_Incumbent_Challenger_Open_Seat'] == \"OPEN\"]\n",
    "winning_open = open_cand[open_cand[\"GE WINNER INDICATOR\"] == 1] \n",
    "prob_open = winning_open.count()[0]/open_cand.count()[0]\n",
    "winning_open.count()[0]"
   ]
  },
  {
   "cell_type": "code",
   "execution_count": 21,
   "metadata": {},
   "outputs": [
    {
     "data": {
      "text/plain": [
       "1917"
      ]
     },
     "execution_count": 21,
     "metadata": {},
     "output_type": "execute_result"
    }
   ],
   "source": [
    "incumbents = house_cand[house_cand['Cand_Incumbent_Challenger_Open_Seat'] == \"INCUMBENT\"]\n",
    "winning_incumbents = incumbents[incumbents[\"GE WINNER INDICATOR\"] == 1] \n",
    "prob_incumbents = winning_incumbents.count()[0]/(total_winners - winning_open.count()[0])\n",
    "winning_incumbents.count()[0]"
   ]
  },
  {
   "cell_type": "code",
   "execution_count": 22,
   "metadata": {},
   "outputs": [
    {
     "data": {
      "text/plain": [
       "169"
      ]
     },
     "execution_count": 22,
     "metadata": {},
     "output_type": "execute_result"
    }
   ],
   "source": [
    "challengers = house_cand[house_cand['Cand_Incumbent_Challenger_Open_Seat'] == \"CHALLENGER\"]\n",
    "winning_challengers = challengers[challengers[\"GE WINNER INDICATOR\"] == 1] \n",
    "prob_challengers = winning_challengers.count()[0]/(total_winners - winning_open.count()[0])\n",
    "winning_challengers.count()[0]"
   ]
  },
  {
   "cell_type": "code",
   "execution_count": 23,
   "metadata": {},
   "outputs": [
    {
     "data": {
      "image/png": "[encoded data removed]",
      "text/plain": [
       "<Figure size 252x504 with 1 Axes>"
      ]
     },
     "metadata": {},
     "output_type": "display_data"
    }
   ],
   "source": [
    "sns.set()\n",
    "plot = pd.DataFrame({\"Candidate Status\":[\"Incumbent\",\"Challenger\"],\"Probability of winning\":[prob_incumbents,prob_challengers]})\n",
    "g = sns.factorplot(x=\"Candidate Status\", y=\"Probability of winning\",data=plot, kind='bar',size=7, aspect=0.5)\n",
    "for ax in g.axes.flatten():\n",
    "    ax.set_xlabel(\"\")\n",
    "    ax.set_title('Chances of winning: Incumbent vs Challenger')\n",
    "    g.savefig(\"incumbent.jpg\",dpi=400)\n"
   ]
  },
  {
   "cell_type": "code",
   "execution_count": 24,
   "metadata": {},
   "outputs": [
    {
     "name": "stdout",
     "output_type": "stream",
     "text": [
      "0.9189837008628955 0.08101629913710451\n"
     ]
    }
   ],
   "source": [
    "print(prob_incumbents,prob_challengers)"
   ]
  }
 ],
 "metadata": {
  "kernelspec": {
   "display_name": "Python 3",
   "language": "python",
   "name": "python3"
  },
  "language_info": {
   "codemirror_mode": {
    "name": "ipython",
    "version": 3
   },
   "file_extension": ".py",
   "mimetype": "text/x-python",
   "name": "python",
   "nbconvert_exporter": "python",
   "pygments_lexer": "ipython3",
   "version": "3.6.5"
  }
 },
 "nbformat": 4,
 "nbformat_minor": 2
}
