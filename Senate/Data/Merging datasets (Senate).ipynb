{
 "cells": [
  {
   "cell_type": "code",
   "execution_count": 94,
   "metadata": {},
   "outputs": [],
   "source": [
    "import pandas as pd\n",
    "import numpy as np"
   ]
  },
  {
   "cell_type": "code",
   "execution_count": 95,
   "metadata": {},
   "outputs": [],
   "source": [
    "def generate_max_feature(df,col_name,name_of_feature,groupby_params=[\"year\",\"Cand_Office_St\"]):\n",
    "    '''\"\"\n",
    "    Generate a feature that will groupby state, district and get the top candidate for the given feature\n",
    "    \n",
    "    For eg: Individual_Contribution\n",
    "    The function will identify candidates that have the highest in \"Individual_Contribution\"\n",
    "    in their district,state and assign 1.\n",
    "    Rest all will have 0.\n",
    "    '''\n",
    "    max_rows = df.groupby(groupby_params)[col_name].idxmax()\n",
    "    df[name_of_feature] = 0\n",
    "    df.loc[max_rows,name_of_feature] = 1\n",
    "    return df"
   ]
  },
  {
   "cell_type": "code",
   "execution_count": 96,
   "metadata": {},
   "outputs": [
    {
     "name": "stdout",
     "output_type": "stream",
     "text": [
      "['AK', 'AL', 'AR', 'CO', 'DE', 'GA', 'IA', 'ID', 'IL', 'KS', 'KY', 'LA', 'MA', 'ME', 'MI', 'MN', 'MS', 'MT', 'NC', 'NE', 'NH', 'NJ', 'NM', 'OK', 'OR', 'PA', 'RI', 'SC', 'SD', 'TN', 'TX', 'VA', 'WV', 'WY', 'AZ', 'CA', 'CT', 'FL', 'HI', 'IN', 'MD', 'MO', 'ND', 'NV', 'NY', 'OH', 'UT', 'VT', 'WA', 'WI']\n"
     ]
    },
    {
     "data": {
      "text/html": [
       "<div>\n",
       "<style scoped>\n",
       "    .dataframe tbody tr th:only-of-type {\n",
       "        vertical-align: middle;\n",
       "    }\n",
       "\n",
       "    .dataframe tbody tr th {\n",
       "        vertical-align: top;\n",
       "    }\n",
       "\n",
       "    .dataframe thead th {\n",
       "        text-align: right;\n",
       "    }\n",
       "</style>\n",
       "<table border=\"1\" class=\"dataframe\">\n",
       "  <thead>\n",
       "    <tr style=\"text-align: right;\">\n",
       "      <th></th>\n",
       "      <th>Cand_Id</th>\n",
       "      <th>Cand_Incumbent_Challenger_Open_Seat</th>\n",
       "      <th>Cand_Name</th>\n",
       "      <th>Cand_Office</th>\n",
       "      <th>Cand_Office_St</th>\n",
       "      <th>Cand_Party_Affiliation</th>\n",
       "      <th>Cand_State</th>\n",
       "      <th>GE WINNER INDICATOR</th>\n",
       "      <th>Individual_Contribution</th>\n",
       "      <th>Other_Committee_Contribution</th>\n",
       "      <th>Party_Committee_Contribution</th>\n",
       "      <th>Total_Disbursement</th>\n",
       "      <th>Total_Receipt</th>\n",
       "      <th>year</th>\n",
       "    </tr>\n",
       "  </thead>\n",
       "  <tbody>\n",
       "    <tr>\n",
       "      <th>0</th>\n",
       "      <td>S6AK00078</td>\n",
       "      <td>CHALLENGER</td>\n",
       "      <td>CUDDY, DAVID W</td>\n",
       "      <td>S</td>\n",
       "      <td>AK</td>\n",
       "      <td>REP</td>\n",
       "      <td>AK</td>\n",
       "      <td>0</td>\n",
       "      <td>31261.0</td>\n",
       "      <td>260.0</td>\n",
       "      <td>0.0</td>\n",
       "      <td>862663.0</td>\n",
       "      <td>862661.0</td>\n",
       "      <td>2008</td>\n",
       "    </tr>\n",
       "    <tr>\n",
       "      <th>1</th>\n",
       "      <td>S8AK00074</td>\n",
       "      <td>CHALLENGER</td>\n",
       "      <td>CALDERO, ROCKY CHRISTOPHER</td>\n",
       "      <td>S</td>\n",
       "      <td>AK</td>\n",
       "      <td>DEM</td>\n",
       "      <td>AK</td>\n",
       "      <td>0</td>\n",
       "      <td>31622.0</td>\n",
       "      <td>0.0</td>\n",
       "      <td>0.0</td>\n",
       "      <td>25891.0</td>\n",
       "      <td>32004.0</td>\n",
       "      <td>2008</td>\n",
       "    </tr>\n",
       "    <tr>\n",
       "      <th>2</th>\n",
       "      <td>S8AK00082</td>\n",
       "      <td>CHALLENGER</td>\n",
       "      <td>METCALFE, RAY</td>\n",
       "      <td>S</td>\n",
       "      <td>AK</td>\n",
       "      <td>DEM</td>\n",
       "      <td>AK</td>\n",
       "      <td>0</td>\n",
       "      <td>30267.0</td>\n",
       "      <td>0.0</td>\n",
       "      <td>0.0</td>\n",
       "      <td>30562.0</td>\n",
       "      <td>30309.0</td>\n",
       "      <td>2008</td>\n",
       "    </tr>\n",
       "    <tr>\n",
       "      <th>3</th>\n",
       "      <td>S8AK00108</td>\n",
       "      <td>CHALLENGER</td>\n",
       "      <td>SIKMA, RODERIC H 'RICK'</td>\n",
       "      <td>S</td>\n",
       "      <td>AK</td>\n",
       "      <td>REP</td>\n",
       "      <td>AK</td>\n",
       "      <td>0</td>\n",
       "      <td>4746.0</td>\n",
       "      <td>0.0</td>\n",
       "      <td>0.0</td>\n",
       "      <td>12203.0</td>\n",
       "      <td>11996.0</td>\n",
       "      <td>2008</td>\n",
       "    </tr>\n",
       "    <tr>\n",
       "      <th>4</th>\n",
       "      <td>S8AK00124</td>\n",
       "      <td>CHALLENGER</td>\n",
       "      <td>VICKERS, RAYMOND B VIC</td>\n",
       "      <td>S</td>\n",
       "      <td>AK</td>\n",
       "      <td>REP</td>\n",
       "      <td>AK</td>\n",
       "      <td>0</td>\n",
       "      <td>10215.0</td>\n",
       "      <td>0.0</td>\n",
       "      <td>0.0</td>\n",
       "      <td>1010617.0</td>\n",
       "      <td>1055221.0</td>\n",
       "      <td>2008</td>\n",
       "    </tr>\n",
       "  </tbody>\n",
       "</table>\n",
       "</div>"
      ],
      "text/plain": [
       "     Cand_Id Cand_Incumbent_Challenger_Open_Seat                   Cand_Name  \\\n",
       "0  S6AK00078                          CHALLENGER              CUDDY, DAVID W   \n",
       "1  S8AK00074                          CHALLENGER  CALDERO, ROCKY CHRISTOPHER   \n",
       "2  S8AK00082                          CHALLENGER               METCALFE, RAY   \n",
       "3  S8AK00108                          CHALLENGER     SIKMA, RODERIC H 'RICK'   \n",
       "4  S8AK00124                          CHALLENGER      VICKERS, RAYMOND B VIC   \n",
       "\n",
       "  Cand_Office Cand_Office_St Cand_Party_Affiliation Cand_State  \\\n",
       "0           S             AK                    REP         AK   \n",
       "1           S             AK                    DEM         AK   \n",
       "2           S             AK                    DEM         AK   \n",
       "3           S             AK                    REP         AK   \n",
       "4           S             AK                    REP         AK   \n",
       "\n",
       "   GE WINNER INDICATOR  Individual_Contribution  Other_Committee_Contribution  \\\n",
       "0                    0                  31261.0                         260.0   \n",
       "1                    0                  31622.0                           0.0   \n",
       "2                    0                  30267.0                           0.0   \n",
       "3                    0                   4746.0                           0.0   \n",
       "4                    0                  10215.0                           0.0   \n",
       "\n",
       "   Party_Committee_Contribution  Total_Disbursement  Total_Receipt  year  \n",
       "0                           0.0            862663.0       862661.0  2008  \n",
       "1                           0.0             25891.0        32004.0  2008  \n",
       "2                           0.0             30562.0        30309.0  2008  \n",
       "3                           0.0             12203.0        11996.0  2008  \n",
       "4                           0.0           1010617.0      1055221.0  2008  "
      ]
     },
     "execution_count": 96,
     "metadata": {},
     "output_type": "execute_result"
    }
   ],
   "source": [
    "senate = pd.read_csv(\"senate.csv\")\n",
    "print(senate[\"Cand_Office_St\"].unique().tolist())\n",
    "senate.head()"
   ]
  },
  {
   "cell_type": "markdown",
   "metadata": {},
   "source": [
    "Generate Top feature for different finances "
   ]
  },
  {
   "cell_type": "code",
   "execution_count": 97,
   "metadata": {},
   "outputs": [],
   "source": [
    "senate = generate_max_feature(senate,\"Individual_Contribution\",\"top_individual_contribution\")\n",
    "senate = generate_max_feature(senate,\"Total_Disbursement\",\"top_total_disbursement\")\n",
    "senate = generate_max_feature(senate,\"Other_Committee_Contribution\",\"top_other_comm_contribution\")\n",
    "senate = generate_max_feature(senate,\"Party_Committee_Contribution\",\"top_party_comm_contribution\",[\"year\",\"Cand_Office_St\",\"Cand_Party_Affiliation\"])"
   ]
  },
  {
   "cell_type": "code",
   "execution_count": 98,
   "metadata": {},
   "outputs": [
    {
     "name": "stdout",
     "output_type": "stream",
     "text": [
      "No. of winners = 169\n",
      "No. of unique states = 50\n"
     ]
    }
   ],
   "source": [
    "print(\"No. of winners = \" + str(senate[senate[\"GE WINNER INDICATOR\"] == 1].shape[0]))\n",
    "\n",
    "print(\"No. of unique states = \" + str(senate[\"Cand_Office_St\"].unique().shape[0]))"
   ]
  },
  {
   "cell_type": "code",
   "execution_count": 99,
   "metadata": {},
   "outputs": [],
   "source": [
    "# In-state out-state candidates. Currently we are dropping with Nan values in Cand_State\n",
    "senate[\"in_state\"] = 1\n",
    "senate.loc[senate[\"Cand_Office_St\"] != senate[\"Cand_State\"],\"in_state\"] = 0"
   ]
  },
  {
   "cell_type": "code",
   "execution_count": 100,
   "metadata": {},
   "outputs": [
    {
     "data": {
      "text/plain": [
       "(169, 19)"
      ]
     },
     "execution_count": 100,
     "metadata": {},
     "output_type": "execute_result"
    }
   ],
   "source": [
    "senate[senate[\"GE WINNER INDICATOR\"] == 1].shape"
   ]
  },
  {
   "cell_type": "code",
   "execution_count": 101,
   "metadata": {},
   "outputs": [],
   "source": [
    "# Creating dummy variables for incumbent and open candidates\n",
    "senate[\"incumbent\"] = 0\n",
    "senate.loc[senate[\"Cand_Incumbent_Challenger_Open_Seat\"] == \"INCUMBENT\",\"incumbent\"] = 1\n",
    "\n",
    "senate[\"open\"] = 0\n",
    "senate.loc[senate[\"Cand_Incumbent_Challenger_Open_Seat\"] == \"OPEN\",\"open\"] = 1"
   ]
  },
  {
   "cell_type": "code",
   "execution_count": 102,
   "metadata": {},
   "outputs": [],
   "source": [
    "# def party_domination_features(df1,no_of_datasets):\n",
    "#     '''\n",
    "#     There are five categories in which each district will fall:\n",
    "#     1) Strong Democratic : All the records for this district indicate DEM party have won\n",
    "#     2) Strong Republic : All the records for this district indicate REP party have won \n",
    "#     3) Likely Democratic: More than half of records for this district indicate DEM party have won\n",
    "#     4) Likely Republic : More than half of records for this district indicate REP party have won\n",
    "#     5) None of above : This district doesn't fall in any of those categories\n",
    "    \n",
    "#     :param df: pd.df | standard dataframe for this project \n",
    "#     :param no_of_datasets: int | will be used for comparing wins for a party  \n",
    "    \n",
    "#     :return: pd.df | with 4 new features that indicate party dominance in every district\n",
    "#     '''\n",
    "#     df = df1.copy()\n",
    "#     df[\"DEM_wins\"] = 0 \n",
    "#     df.loc[(df[\"Cand_Party_Affiliation\"] == \"DEM\") & (df[\"GE WINNER INDICATOR\"] == 1),\"DEM_wins\"] = 1\n",
    "\n",
    "#     df[\"REP_wins\"] = 0\n",
    "#     df.loc[(df[\"Cand_Party_Affiliation\"] == \"REP\") & (df[\"GE WINNER INDICATOR\"] == 1),\"REP_wins\"] = 1\n",
    "    \n",
    "#     aggregated_data = df.groupby(['Cand_Office_St']).agg({'Cand_Office_St':\"first\",\"DEM_wins\":\"sum\",\"REP_wins\":\"sum\"})\n",
    "    \n",
    "#     df[\"strong_DEM\"] = 0\n",
    "#     df[\"likely_DEM\"] = 0\n",
    "#     df[\"strong_REP\"] = 0\n",
    "#     df[\"likely_REP\"] = 0\n",
    "    \n",
    "#     for index, row in aggregated_data.iterrows():\n",
    "#         state = row[\"Cand_Office_St\"]\n",
    "\n",
    "#         if row[\"DEM_wins\"] >= no_of_datasets-1:\n",
    "#             df.loc[(df[\"Cand_Office_St\"] == state),\"strong_DEM\"] = 1 \n",
    "\n",
    "#         elif row[\"REP_wins\"] >= no_of_datasets-1:\n",
    "#             df.loc[(df[\"Cand_Office_St\"] == state),\"strong_REP\"] = 1 \n",
    "\n",
    "#         elif row[\"DEM_wins\"] > int(no_of_datasets/2):\n",
    "#             df.loc[(df[\"Cand_Office_St\"] == state),\"likely_DEM\"] = 1 \n",
    "\n",
    "#         elif row[\"REP_wins\"] > int(no_of_datasets/2):\n",
    "#             df.loc[(df[\"Cand_Office_St\"] == state),\"likely_REP\"] = 1\n",
    "    \n",
    "#     df = df.drop(['DEM_wins', 'REP_wins'], axis=1)\n",
    "    \n",
    "#     return df\n",
    "\n",
    "\n",
    "# senate = party_domination_features(senate,5)\n",
    "# senate.head()"
   ]
  },
  {
   "cell_type": "code",
   "execution_count": 103,
   "metadata": {},
   "outputs": [],
   "source": [
    "senate.loc[(senate[\"Cand_Party_Affiliation\"] != \"DEM\") & (senate[\"Cand_Party_Affiliation\"] != \"REP\"),\"Cand_Party_Affiliation\"] = \"OTHER\"\n",
    "senate = pd.get_dummies(senate,columns=[\"Cand_Party_Affiliation\",\"Cand_Office_St\"])"
   ]
  },
  {
   "cell_type": "markdown",
   "metadata": {},
   "source": [
    "Drop columns that are not necessary in the analysis"
   ]
  },
  {
   "cell_type": "code",
   "execution_count": 104,
   "metadata": {},
   "outputs": [],
   "source": [
    "# columns_to_drop = []\n",
    "# cand_data.drop(columns_to_drop,axis=1)"
   ]
  },
  {
   "cell_type": "markdown",
   "metadata": {},
   "source": [
    "#### Now that we have created our analytical dataset, let's just write it to a csv file for further analysis."
   ]
  },
  {
   "cell_type": "code",
   "execution_count": 105,
   "metadata": {},
   "outputs": [],
   "source": [
    "senate.to_csv(\"senate_analytical.csv\",index=False)"
   ]
  },
  {
   "cell_type": "code",
   "execution_count": null,
   "metadata": {},
   "outputs": [],
   "source": []
  }
 ],
 "metadata": {
  "kernelspec": {
   "display_name": "Python 3",
   "language": "python",
   "name": "python3"
  },
  "language_info": {
   "codemirror_mode": {
    "name": "ipython",
    "version": 3
   },
   "file_extension": ".py",
   "mimetype": "text/x-python",
   "name": "python",
   "nbconvert_exporter": "python",
   "pygments_lexer": "ipython3",
   "version": "3.6.5"
  }
 },
 "nbformat": 4,
 "nbformat_minor": 2
}
