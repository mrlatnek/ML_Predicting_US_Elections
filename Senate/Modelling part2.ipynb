{
 "cells": [
  {
   "cell_type": "code",
   "execution_count": 2,
   "metadata": {},
   "outputs": [],
   "source": [
    "import pandas as pd\n",
    "x3= pd.read_csv(\"house_dataset16.csv\")\n",
    "y3=x1['GE WINNER INDICATOR']"
   ]
  },
  {
   "cell_type": "code",
   "execution_count": 11,
   "metadata": {},
   "outputs": [],
   "source": [
    "#x3=x3.drop(['Cand_Name', 'FEC ID#', 'Cand_Incumbent_Challenger_Open_Seat', 'Total_Receipt', 'Total_Disbursement', 'Cand_State', 'Individual_Contribution', 'Other_Committee_Contribution', 'Party_Committee_Contribution', 'STATE ABBREVIATION', 'CANDIDATE NAME (First)', 'CANDIDATE NAME (Last)', 'CANDIDATE NAME', 'PARTY', 'COMBINED % (CT, NY, SC)', 'GE WINNER INDICATOR'], axis=1)\n",
    "x3=x3.drop(['Cand_Office_St_PR'], axis=1)"
   ]
  },
  {
   "cell_type": "code",
   "execution_count": 7,
   "metadata": {},
   "outputs": [],
   "source": [
    "X= pd.read_csv(\"x2.csv\")\n",
    "Y= pd.read_csv(\"y2.csv\", header=None)\n"
   ]
  },
  {
   "cell_type": "code",
   "execution_count": 12,
   "metadata": {},
   "outputs": [
    {
     "name": "stderr",
     "output_type": "stream",
     "text": [
      "C:\\ProgramData\\Anaconda3\\lib\\site-packages\\ipykernel_launcher.py:5: DataConversionWarning: A column-vector y was passed when a 1d array was expected. Please change the shape of y to (n_samples,), for example using ravel().\n",
      "  \"\"\"\n"
     ]
    },
    {
     "data": {
      "text/plain": [
       "0.9339712918660287"
      ]
     },
     "execution_count": 12,
     "metadata": {},
     "output_type": "execute_result"
    }
   ],
   "source": [
    "from sklearn.ensemble import RandomForestClassifier\n",
    "from sklearn import metrics\n",
    "clf = RandomForestClassifier(n_estimators=100, max_depth=2,\n",
    "                             random_state=0)\n",
    "clf.fit(X, Y)\n",
    "\n",
    "y_pred= clf.predict(x3)\n",
    "#score(clf, x2, y2) \n",
    "\n",
    "\n",
    "metrics.accuracy_score(y3, y_pred)"
   ]
  }
 ],
 "metadata": {
  "kernelspec": {
   "display_name": "Python 3",
   "language": "python",
   "name": "python3"
  },
  "language_info": {
   "codemirror_mode": {
    "name": "ipython",
    "version": 3
   },
   "file_extension": ".py",
   "mimetype": "text/x-python",
   "name": "python",
   "nbconvert_exporter": "python",
   "pygments_lexer": "ipython3",
   "version": "3.6.5"
  }
 },
 "nbformat": 4,
 "nbformat_minor": 2
}
