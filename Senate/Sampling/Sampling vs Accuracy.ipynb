{
 "cells": [
  {
   "cell_type": "code",
   "execution_count": 1,
   "metadata": {},
   "outputs": [],
   "source": [
    "import pandas as pd\n",
    "import numpy as np\n",
    "from sklearn.utils import shuffle\n",
    "from sklearn.ensemble import RandomForestClassifier\n",
    "from sklearn.ensemble import RandomForestClassifier\n",
    "from sklearn import metrics\n",
    "from sklearn.metrics import precision_recall_fscore_support\n",
    "from imblearn.over_sampling import SMOTE\n",
    "from imblearn.under_sampling import RandomUnderSampler \n",
    "from imblearn.over_sampling import RandomOverSampler\n",
    "from sklearn.metrics import roc_auc_score"
   ]
  },
  {
   "cell_type": "markdown",
   "metadata": {},
   "source": [
    "Read the Senate analytical dataset and randomize the rows"
   ]
  },
  {
   "cell_type": "code",
   "execution_count": 2,
   "metadata": {},
   "outputs": [
    {
     "data": {
      "text/plain": [
       "Index(['Cand_Id', 'Cand_Incumbent_Challenger_Open_Seat', 'Cand_Name',\n",
       "       'Cand_Office', 'Cand_State', 'GE WINNER INDICATOR',\n",
       "       'Individual_Contribution', 'Other_Committee_Contribution',\n",
       "       'Party_Committee_Contribution', 'Total_Disbursement', 'Total_Receipt',\n",
       "       'year', 'top_individual_contribution', 'top_total_disbursement',\n",
       "       'top_other_comm_contribution', 'top_party_comm_contribution',\n",
       "       'in_state', 'incumbent', 'open', 'Cand_Party_Affiliation_DEM',\n",
       "       'Cand_Party_Affiliation_OTHER', 'Cand_Party_Affiliation_REP',\n",
       "       'Cand_Office_St_AK', 'Cand_Office_St_AL', 'Cand_Office_St_AR',\n",
       "       'Cand_Office_St_AZ', 'Cand_Office_St_CA', 'Cand_Office_St_CO',\n",
       "       'Cand_Office_St_CT', 'Cand_Office_St_DE', 'Cand_Office_St_FL',\n",
       "       'Cand_Office_St_GA', 'Cand_Office_St_HI', 'Cand_Office_St_IA',\n",
       "       'Cand_Office_St_ID', 'Cand_Office_St_IL', 'Cand_Office_St_IN',\n",
       "       'Cand_Office_St_KS', 'Cand_Office_St_KY', 'Cand_Office_St_LA',\n",
       "       'Cand_Office_St_MA', 'Cand_Office_St_MD', 'Cand_Office_St_ME',\n",
       "       'Cand_Office_St_MI', 'Cand_Office_St_MN', 'Cand_Office_St_MO',\n",
       "       'Cand_Office_St_MS', 'Cand_Office_St_MT', 'Cand_Office_St_NC',\n",
       "       'Cand_Office_St_ND', 'Cand_Office_St_NE', 'Cand_Office_St_NH',\n",
       "       'Cand_Office_St_NJ', 'Cand_Office_St_NM', 'Cand_Office_St_NV',\n",
       "       'Cand_Office_St_NY', 'Cand_Office_St_OH', 'Cand_Office_St_OK',\n",
       "       'Cand_Office_St_OR', 'Cand_Office_St_PA', 'Cand_Office_St_RI',\n",
       "       'Cand_Office_St_SC', 'Cand_Office_St_SD', 'Cand_Office_St_TN',\n",
       "       'Cand_Office_St_TX', 'Cand_Office_St_UT', 'Cand_Office_St_VA',\n",
       "       'Cand_Office_St_VT', 'Cand_Office_St_WA', 'Cand_Office_St_WI',\n",
       "       'Cand_Office_St_WV', 'Cand_Office_St_WY'],\n",
       "      dtype='object')"
      ]
     },
     "execution_count": 2,
     "metadata": {},
     "output_type": "execute_result"
    }
   ],
   "source": [
    "# Read \n",
    "senate = pd.read_csv(\"../senate_analytical.csv\")\n",
    "\n",
    "# Randomize the data\n",
    "senate = shuffle(senate)\n",
    "\n",
    "senate.columns"
   ]
  },
  {
   "cell_type": "code",
   "execution_count": 3,
   "metadata": {},
   "outputs": [
    {
     "name": "stdout",
     "output_type": "stream",
     "text": [
      "0    2073\n",
      "1     169\n",
      "Name: GE WINNER INDICATOR, dtype: int64\n",
      "(2242, 60)\n"
     ]
    }
   ],
   "source": [
    "y = senate[\"GE WINNER INDICATOR\"]\n",
    "X = senate.drop(columns=[\"Cand_Id\",\"Cand_Incumbent_Challenger_Open_Seat\",\"Cand_Name\",\"Cand_Office\",\"Cand_State\",\"GE WINNER INDICATOR\",\"Individual_Contribution\",\"Other_Committee_Contribution\",\"Party_Committee_Contribution\",\"Total_Disbursement\",\"Total_Receipt\",\"year\"])\n",
    "\n",
    "print(y.value_counts())\n",
    "print(X.shape)\n",
    "# y.head()"
   ]
  },
  {
   "cell_type": "markdown",
   "metadata": {},
   "source": [
    "Read the Test dataset (2018 Senate data) !"
   ]
  },
  {
   "cell_type": "code",
   "execution_count": 4,
   "metadata": {},
   "outputs": [
    {
     "name": "stdout",
     "output_type": "stream",
     "text": [
      "(483, 60)\n"
     ]
    },
    {
     "data": {
      "text/html": [
       "<div>\n",
       "<style scoped>\n",
       "    .dataframe tbody tr th:only-of-type {\n",
       "        vertical-align: middle;\n",
       "    }\n",
       "\n",
       "    .dataframe tbody tr th {\n",
       "        vertical-align: top;\n",
       "    }\n",
       "\n",
       "    .dataframe thead th {\n",
       "        text-align: right;\n",
       "    }\n",
       "</style>\n",
       "<table border=\"1\" class=\"dataframe\">\n",
       "  <thead>\n",
       "    <tr style=\"text-align: right;\">\n",
       "      <th></th>\n",
       "      <th>top_individual_contribution</th>\n",
       "      <th>top_total_disbursement</th>\n",
       "      <th>top_other_comm_contribution</th>\n",
       "      <th>top_party_comm_contribution</th>\n",
       "      <th>in_state</th>\n",
       "      <th>incumbent</th>\n",
       "      <th>open</th>\n",
       "      <th>Cand_Party_Affiliation_DEM</th>\n",
       "      <th>Cand_Party_Affiliation_OTHER</th>\n",
       "      <th>Cand_Party_Affiliation_REP</th>\n",
       "      <th>...</th>\n",
       "      <th>Cand_Office_St_ID</th>\n",
       "      <th>Cand_Office_St_NH</th>\n",
       "      <th>Cand_Office_St_AR</th>\n",
       "      <th>Cand_Office_St_OK</th>\n",
       "      <th>Cand_Office_St_KS</th>\n",
       "      <th>Cand_Office_St_LA</th>\n",
       "      <th>Cand_Office_St_IL</th>\n",
       "      <th>Cand_Office_St_AL</th>\n",
       "      <th>Cand_Office_St_SD</th>\n",
       "      <th>Cand_Office_St_SC</th>\n",
       "    </tr>\n",
       "  </thead>\n",
       "  <tbody>\n",
       "    <tr>\n",
       "      <th>0</th>\n",
       "      <td>0</td>\n",
       "      <td>0</td>\n",
       "      <td>0</td>\n",
       "      <td>0</td>\n",
       "      <td>1</td>\n",
       "      <td>0</td>\n",
       "      <td>1</td>\n",
       "      <td>1</td>\n",
       "      <td>0</td>\n",
       "      <td>0</td>\n",
       "      <td>...</td>\n",
       "      <td>0</td>\n",
       "      <td>0</td>\n",
       "      <td>0</td>\n",
       "      <td>0</td>\n",
       "      <td>0</td>\n",
       "      <td>0</td>\n",
       "      <td>0</td>\n",
       "      <td>0</td>\n",
       "      <td>0</td>\n",
       "      <td>0</td>\n",
       "    </tr>\n",
       "    <tr>\n",
       "      <th>1</th>\n",
       "      <td>0</td>\n",
       "      <td>0</td>\n",
       "      <td>0</td>\n",
       "      <td>1</td>\n",
       "      <td>1</td>\n",
       "      <td>0</td>\n",
       "      <td>1</td>\n",
       "      <td>0</td>\n",
       "      <td>0</td>\n",
       "      <td>1</td>\n",
       "      <td>...</td>\n",
       "      <td>0</td>\n",
       "      <td>0</td>\n",
       "      <td>0</td>\n",
       "      <td>0</td>\n",
       "      <td>0</td>\n",
       "      <td>0</td>\n",
       "      <td>0</td>\n",
       "      <td>0</td>\n",
       "      <td>0</td>\n",
       "      <td>0</td>\n",
       "    </tr>\n",
       "    <tr>\n",
       "      <th>2</th>\n",
       "      <td>0</td>\n",
       "      <td>0</td>\n",
       "      <td>0</td>\n",
       "      <td>1</td>\n",
       "      <td>1</td>\n",
       "      <td>0</td>\n",
       "      <td>1</td>\n",
       "      <td>0</td>\n",
       "      <td>1</td>\n",
       "      <td>0</td>\n",
       "      <td>...</td>\n",
       "      <td>0</td>\n",
       "      <td>0</td>\n",
       "      <td>0</td>\n",
       "      <td>0</td>\n",
       "      <td>0</td>\n",
       "      <td>0</td>\n",
       "      <td>0</td>\n",
       "      <td>0</td>\n",
       "      <td>0</td>\n",
       "      <td>0</td>\n",
       "    </tr>\n",
       "    <tr>\n",
       "      <th>3</th>\n",
       "      <td>0</td>\n",
       "      <td>0</td>\n",
       "      <td>0</td>\n",
       "      <td>0</td>\n",
       "      <td>1</td>\n",
       "      <td>0</td>\n",
       "      <td>1</td>\n",
       "      <td>1</td>\n",
       "      <td>0</td>\n",
       "      <td>0</td>\n",
       "      <td>...</td>\n",
       "      <td>0</td>\n",
       "      <td>0</td>\n",
       "      <td>0</td>\n",
       "      <td>0</td>\n",
       "      <td>0</td>\n",
       "      <td>0</td>\n",
       "      <td>0</td>\n",
       "      <td>0</td>\n",
       "      <td>0</td>\n",
       "      <td>0</td>\n",
       "    </tr>\n",
       "    <tr>\n",
       "      <th>4</th>\n",
       "      <td>0</td>\n",
       "      <td>0</td>\n",
       "      <td>0</td>\n",
       "      <td>0</td>\n",
       "      <td>1</td>\n",
       "      <td>0</td>\n",
       "      <td>1</td>\n",
       "      <td>1</td>\n",
       "      <td>0</td>\n",
       "      <td>0</td>\n",
       "      <td>...</td>\n",
       "      <td>0</td>\n",
       "      <td>0</td>\n",
       "      <td>0</td>\n",
       "      <td>0</td>\n",
       "      <td>0</td>\n",
       "      <td>0</td>\n",
       "      <td>0</td>\n",
       "      <td>0</td>\n",
       "      <td>0</td>\n",
       "      <td>0</td>\n",
       "    </tr>\n",
       "  </tbody>\n",
       "</table>\n",
       "<p>5 rows × 60 columns</p>\n",
       "</div>"
      ],
      "text/plain": [
       "   top_individual_contribution  top_total_disbursement  \\\n",
       "0                            0                       0   \n",
       "1                            0                       0   \n",
       "2                            0                       0   \n",
       "3                            0                       0   \n",
       "4                            0                       0   \n",
       "\n",
       "   top_other_comm_contribution  top_party_comm_contribution  in_state  \\\n",
       "0                            0                            0         1   \n",
       "1                            0                            1         1   \n",
       "2                            0                            1         1   \n",
       "3                            0                            0         1   \n",
       "4                            0                            0         1   \n",
       "\n",
       "   incumbent  open  Cand_Party_Affiliation_DEM  Cand_Party_Affiliation_OTHER  \\\n",
       "0          0     1                           1                             0   \n",
       "1          0     1                           0                             0   \n",
       "2          0     1                           0                             1   \n",
       "3          0     1                           1                             0   \n",
       "4          0     1                           1                             0   \n",
       "\n",
       "   Cand_Party_Affiliation_REP        ...          Cand_Office_St_ID  \\\n",
       "0                           0        ...                          0   \n",
       "1                           1        ...                          0   \n",
       "2                           0        ...                          0   \n",
       "3                           0        ...                          0   \n",
       "4                           0        ...                          0   \n",
       "\n",
       "   Cand_Office_St_NH  Cand_Office_St_AR  Cand_Office_St_OK  Cand_Office_St_KS  \\\n",
       "0                  0                  0                  0                  0   \n",
       "1                  0                  0                  0                  0   \n",
       "2                  0                  0                  0                  0   \n",
       "3                  0                  0                  0                  0   \n",
       "4                  0                  0                  0                  0   \n",
       "\n",
       "   Cand_Office_St_LA  Cand_Office_St_IL  Cand_Office_St_AL  Cand_Office_St_SD  \\\n",
       "0                  0                  0                  0                  0   \n",
       "1                  0                  0                  0                  0   \n",
       "2                  0                  0                  0                  0   \n",
       "3                  0                  0                  0                  0   \n",
       "4                  0                  0                  0                  0   \n",
       "\n",
       "   Cand_Office_St_SC  \n",
       "0                  0  \n",
       "1                  0  \n",
       "2                  0  \n",
       "3                  0  \n",
       "4                  0  \n",
       "\n",
       "[5 rows x 60 columns]"
      ]
     },
     "execution_count": 4,
     "metadata": {},
     "output_type": "execute_result"
    }
   ],
   "source": [
    "senate_test = pd.read_csv(\"../test_analytical.csv\")\n",
    "\n",
    "# print(senate_test[\"Cand_Office_St\"].value_counts())\n",
    "\n",
    "y_test = senate_test[\"GE WINNER INDICATOR\"]\n",
    "\n",
    "test_states = senate_test[\"Cand_Office_St\"]\n",
    "X_test = senate_test.drop(columns=[\"Cand_Office_St\",\"Cand_Office_Dist\",\"Cand_Id\",\"Cand_Incumbent_Challenger_Open_Seat\",\"Cand_Name\",\"Cand_Office\",\"Cand_State\",\"GE WINNER INDICATOR\",\"Individual_Contribution\",\"Other_Committee_Contribution\",\"Party_Committee_Contribution\",\"Total_Disbursement\",\"Total_Receipt\"])\n",
    "\n",
    "\n",
    "print(X_test.shape)\n",
    "X_test.columns\n",
    "\n",
    "# y_test = y_test.astype(int)\n",
    "X_test.head()"
   ]
  },
  {
   "cell_type": "markdown",
   "metadata": {},
   "source": [
    "### Oversampling"
   ]
  },
  {
   "cell_type": "code",
   "execution_count": 5,
   "metadata": {
    "scrolled": true
   },
   "outputs": [
    {
     "name": "stdout",
     "output_type": "stream",
     "text": [
      "1    2073\n",
      "0    2073\n",
      "dtype: int64\n"
     ]
    }
   ],
   "source": [
    "sampling_over = RandomOverSampler(random_state=44)\n",
    "X_train, y_train = sampling_over.fit_sample(X.values, y.values)\n",
    "\n",
    "print(pd.Series(y_train).value_counts())"
   ]
  },
  {
   "cell_type": "code",
   "execution_count": 6,
   "metadata": {},
   "outputs": [
    {
     "name": "stdout",
     "output_type": "stream",
     "text": [
      "Score: 0.968944099378882\n"
     ]
    }
   ],
   "source": [
    "clf = RandomForestClassifier(n_estimators=200)\n",
    "clf.fit(X_train,y_train)\n",
    "\n",
    "X_test_os = X_test.copy()\n",
    "y_prob = clf.predict_proba(X_test_os)[:,1]\n",
    "\n",
    "print(\"Score: \" + str(clf.score(X_test_os,y_test)))"
   ]
  },
  {
   "cell_type": "code",
   "execution_count": 7,
   "metadata": {},
   "outputs": [
    {
     "name": "stdout",
     "output_type": "stream",
     "text": [
      "AUC: 0.9848148148148148\n"
     ]
    },
    {
     "data": {
      "text/plain": [
       "(array([0.98663697, 0.79411765]),\n",
       " array([0.98444444, 0.81818182]),\n",
       " array([0.98553949, 0.80597015]),\n",
       " array([450,  33], dtype=int64))"
      ]
     },
     "execution_count": 7,
     "metadata": {},
     "output_type": "execute_result"
    }
   ],
   "source": [
    "X_test_os[\"State\"] = test_states\n",
    "X_test_os[\"y_prob\"] = y_prob\n",
    "\n",
    "X_test_os[\"winner\"] = 0\n",
    "X_test_os.loc[X_test_os.groupby(['State'])[\"y_prob\"].idxmax(),\"winner\"] = 1\n",
    "\n",
    "print(\"AUC: \" + str(roc_auc_score(y_test, y_prob)))\n",
    "precision_recall_fscore_support(y_test, X_test_os[\"winner\"])"
   ]
  },
  {
   "cell_type": "markdown",
   "metadata": {},
   "source": [
    "### SMOTE"
   ]
  },
  {
   "cell_type": "code",
   "execution_count": 8,
   "metadata": {},
   "outputs": [
    {
     "name": "stdout",
     "output_type": "stream",
     "text": [
      "1    2073\n",
      "0    2073\n",
      "dtype: int64\n"
     ]
    }
   ],
   "source": [
    "sampling_smote = SMOTE(random_state=44)\n",
    "X_train, y_train = sampling_smote.fit_sample(X.values, y.values)\n",
    "\n",
    "print(pd.Series(y_train).value_counts())"
   ]
  },
  {
   "cell_type": "code",
   "execution_count": 9,
   "metadata": {},
   "outputs": [
    {
     "name": "stdout",
     "output_type": "stream",
     "text": [
      "Score: 0.9730848861283644\n"
     ]
    }
   ],
   "source": [
    "clf = RandomForestClassifier(n_estimators=200)\n",
    "clf.fit(X_train,y_train)\n",
    "\n",
    "X_test_smote = X_test.copy()\n",
    "\n",
    "y_prob = clf.predict_proba(X_test_smote)[:,1]\n",
    "\n",
    "print(\"Score: \" + str(clf.score(X_test_smote,y_test)))"
   ]
  },
  {
   "cell_type": "code",
   "execution_count": 10,
   "metadata": {},
   "outputs": [
    {
     "name": "stdout",
     "output_type": "stream",
     "text": [
      "AUC: 0.9848148148148148\n"
     ]
    },
    {
     "data": {
      "text/plain": [
       "(array([0.98886414, 0.82352941]),\n",
       " array([0.98666667, 0.84848485]),\n",
       " array([0.98776418, 0.8358209 ]),\n",
       " array([450,  33], dtype=int64))"
      ]
     },
     "execution_count": 10,
     "metadata": {},
     "output_type": "execute_result"
    }
   ],
   "source": [
    "X_test_smote[\"State\"] = test_states\n",
    "X_test_smote[\"y_prob\"] = y_prob\n",
    "\n",
    "X_test_smote[\"winner\"] = 0\n",
    "X_test_smote.loc[X_test_smote.groupby(['State'])[\"y_prob\"].idxmax(),\"winner\"] = 1\n",
    "\n",
    "print(\"AUC: \" + str(roc_auc_score(y_test, y_prob)))\n",
    "precision_recall_fscore_support(y_test, X_test_smote[\"winner\"])"
   ]
  },
  {
   "cell_type": "markdown",
   "metadata": {},
   "source": [
    "### Undersampling"
   ]
  },
  {
   "cell_type": "code",
   "execution_count": 11,
   "metadata": {},
   "outputs": [
    {
     "name": "stdout",
     "output_type": "stream",
     "text": [
      "1    169\n",
      "0    169\n",
      "dtype: int64\n"
     ]
    }
   ],
   "source": [
    "sampling_under = RandomUnderSampler(random_state=44)\n",
    "X_train, y_train = sampling_under.fit_sample(X.values, y.values)\n",
    "\n",
    "print(pd.Series(y_train).value_counts())"
   ]
  },
  {
   "cell_type": "code",
   "execution_count": 12,
   "metadata": {},
   "outputs": [
    {
     "name": "stdout",
     "output_type": "stream",
     "text": [
      "Score: 0.9503105590062112\n"
     ]
    }
   ],
   "source": [
    "clf = RandomForestClassifier(n_estimators=200)\n",
    "clf.fit(X_train,y_train)\n",
    "\n",
    "X_test_under = X_test.copy()\n",
    "\n",
    "y_prob = clf.predict_proba(X_test_under)[:,1]\n",
    "print(\"Score: \" + str(clf.score(X_test_under,y_test)))"
   ]
  },
  {
   "cell_type": "code",
   "execution_count": 13,
   "metadata": {},
   "outputs": [
    {
     "name": "stdout",
     "output_type": "stream",
     "text": [
      "AUC: 0.9871043771043772\n"
     ]
    },
    {
     "data": {
      "text/plain": [
       "(array([0.98886414, 0.82352941]),\n",
       " array([0.98666667, 0.84848485]),\n",
       " array([0.98776418, 0.8358209 ]),\n",
       " array([450,  33], dtype=int64))"
      ]
     },
     "execution_count": 13,
     "metadata": {},
     "output_type": "execute_result"
    }
   ],
   "source": [
    "X_test_under[\"State\"] = test_states\n",
    "X_test_under[\"y_prob\"] = y_prob\n",
    "\n",
    "X_test_under[\"winner\"] = 0\n",
    "X_test_under.loc[X_test_under.groupby(['State'])[\"y_prob\"].idxmax(),\"winner\"] = 1\n",
    "\n",
    "print(\"AUC: \" + str(roc_auc_score(y_test, y_prob)))\n",
    "precision_recall_fscore_support(y_test, X_test_under[\"winner\"])"
   ]
  },
  {
   "cell_type": "markdown",
   "metadata": {},
   "source": [
    "### None"
   ]
  },
  {
   "cell_type": "code",
   "execution_count": 14,
   "metadata": {},
   "outputs": [
    {
     "name": "stdout",
     "output_type": "stream",
     "text": [
      "Score: 0.9730848861283644\n"
     ]
    }
   ],
   "source": [
    "clf = RandomForestClassifier(n_estimators=200)\n",
    "clf.fit(X.values,y.values)\n",
    "\n",
    "X_test_none = X_test.copy()\n",
    "\n",
    "y_prob = clf.predict_proba(X_test_none)[:,1]\n",
    "\n",
    "print(\"Score: \" + str(clf.score(X_test_none,y_test)))"
   ]
  },
  {
   "cell_type": "code",
   "execution_count": 15,
   "metadata": {},
   "outputs": [
    {
     "name": "stdout",
     "output_type": "stream",
     "text": [
      "AUC: 0.9852525252525253\n"
     ]
    },
    {
     "data": {
      "text/plain": [
       "(array([0.98886414, 0.82352941]),\n",
       " array([0.98666667, 0.84848485]),\n",
       " array([0.98776418, 0.8358209 ]),\n",
       " array([450,  33], dtype=int64))"
      ]
     },
     "execution_count": 15,
     "metadata": {},
     "output_type": "execute_result"
    }
   ],
   "source": [
    "X_test_none[\"State\"] = test_states\n",
    "X_test_none[\"y_prob\"] = y_prob\n",
    "\n",
    "X_test_none[\"winner\"] = 0\n",
    "X_test_none.loc[X_test_none.groupby(['State'])[\"y_prob\"].idxmax(),\"winner\"] = 1\n",
    "\n",
    "print(\"AUC: \" + str(roc_auc_score(y_test, y_prob)))\n",
    "precision_recall_fscore_support(y_test, X_test_none[\"winner\"])"
   ]
  },
  {
   "cell_type": "code",
   "execution_count": 16,
   "metadata": {},
   "outputs": [
    {
     "data": {
      "text/plain": [
       "0.9668737060041408"
      ]
     },
     "execution_count": 16,
     "metadata": {},
     "output_type": "execute_result"
    }
   ],
   "source": [
    "clf = RandomForestClassifier(n_estimators=200)\n",
    "clf.fit(X_train,y_train)\n",
    "X_test_1 = X_test.copy()\n",
    "clf.score(X_test_1,y_test)"
   ]
  },
  {
   "cell_type": "markdown",
   "metadata": {},
   "source": [
    "### Let's plot graph for each sampling method"
   ]
  },
  {
   "cell_type": "code",
   "execution_count": null,
   "metadata": {},
   "outputs": [],
   "source": []
  }
 ],
 "metadata": {
  "kernelspec": {
   "display_name": "Python 3",
   "language": "python",
   "name": "python3"
  },
  "language_info": {
   "codemirror_mode": {
    "name": "ipython",
    "version": 3
   },
   "file_extension": ".py",
   "mimetype": "text/x-python",
   "name": "python",
   "nbconvert_exporter": "python",
   "pygments_lexer": "ipython3",
   "version": "3.6.5"
  }
 },
 "nbformat": 4,
 "nbformat_minor": 2
}
